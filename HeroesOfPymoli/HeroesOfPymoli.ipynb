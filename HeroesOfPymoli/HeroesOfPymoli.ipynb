{
 "cells": [
  {
   "cell_type": "code",
   "execution_count": null,
   "metadata": {},
   "outputs": [],
   "source": [
    "# Heroes of Pymoli Pandas Challenge\n",
    "## Written by Jason Gabunilas"
   ]
  },
  {
   "cell_type": "code",
   "execution_count": null,
   "metadata": {},
   "outputs": [],
   "source": [
    "# Dependencies and Setup\n",
    "import pandas as pd\n",
    "\n",
    "# File to Load (Remember to Change These)\n",
    "file_to_load = \"Resources/purchase_data.csv\"\n",
    "\n",
    "# Read Purchasing File and store into Pandas data frame\n",
    "purchase_data = pd.read_csv(file_to_load)"
   ]
  },
  {
   "cell_type": "markdown",
   "metadata": {},
   "source": [
    "## Player Count"
   ]
  },
  {
   "cell_type": "markdown",
   "metadata": {},
   "source": [
    "* Display the total number of players\n"
   ]
  },
  {
   "cell_type": "code",
   "execution_count": null,
   "metadata": {},
   "outputs": [],
   "source": [
    "# Use the .unique() method on the \"SN\" array within the purchase_data dataframe to create an array of unique player names\n",
    "players_series = purchase_data[\"SN\"].unique()\n",
    "# The number of players is equal to the length of players_series\n",
    "total_players = len(players_series)\n",
    "# Create a data frame to report the total number of players\n",
    "total_players_df = pd.DataFrame({\"Total Players\" : [total_players]})\n",
    "total_players_df"
   ]
  },
  {
   "cell_type": "markdown",
   "metadata": {},
   "source": [
    "## Purchasing Analysis (Total)"
   ]
  },
  {
   "cell_type": "markdown",
   "metadata": {},
   "source": [
    "* Run basic calculations to obtain number of unique items, average price, etc.\n",
    "\n",
    "\n",
    "* Create a summary data frame to hold the results\n",
    "\n",
    "\n",
    "* Optional: give the displayed data cleaner formatting\n",
    "\n",
    "\n",
    "* Display the summary data frame\n"
   ]
  },
  {
   "cell_type": "code",
   "execution_count": null,
   "metadata": {
    "scrolled": true,
    "tags": []
   },
   "outputs": [],
   "source": [
    "## Calculate the necessary values\n",
    "# The number of unique items can be found by running the .unique() method on the Item Name or Item ID series\n",
    "unique_items = len(purchase_data[\"Item ID\"].unique())\n",
    "\n",
    "# The average purchase price can be calculated using the mean() method. Then format the resulting value\n",
    "avg_purchase_price = purchase_data[\"Price\"].mean()\n",
    "avg_purchase_price = \"${:,.2f}\".format(avg_purchase_price)\n",
    "\n",
    "\n",
    "# The number of purchases is equal to the length of the Purcahse ID series\n",
    "total_purchases = len(purchase_data[\"Purchase ID\"])\n",
    "\n",
    "# Total revenue is calculated by summing the prices from all of the purchases\n",
    "total_revenue = purchase_data[\"Price\"].sum()\n",
    "total_revenue = \"${:,.2f}\".format(total_revenue)\n",
    "\n",
    "# Collect all values in a data table\n",
    "purchasing_total_df = pd.DataFrame({\"Number of Unique Items\" : [unique_items], \n",
    "\"Average Price\" : [avg_purchase_price], \n",
    "\"Number of Purchases\" : [total_purchases], \n",
    "\"Total Revenue\" : [total_revenue]\n",
    "})\n",
    "purchasing_total_df"
   ]
  },
  {
   "cell_type": "markdown",
   "metadata": {},
   "source": [
    "## Gender Demographics"
   ]
  },
  {
   "cell_type": "markdown",
   "metadata": {},
   "source": [
    "* Percentage and Count of Male Players\n",
    "\n",
    "\n",
    "* Percentage and Count of Female Players\n",
    "\n",
    "\n",
    "* Percentage and Count of Other / Non-Disclosed\n",
    "\n",
    "\n"
   ]
  },
  {
   "cell_type": "code",
   "execution_count": 129,
   "metadata": {
    "tags": []
   },
   "outputs": [
    {
     "output_type": "execute_result",
     "data": {
      "text/plain": "<pandas.io.formats.style.Styler at 0x27d32268488>",
      "text/html": "<style  type=\"text/css\" >\n</style><table id=\"T_a04de9b4_b2a5_11ea_8914_1831bf4ed50d\" ><thead>    <tr>        <th class=\"blank level0\" ></th>        <th class=\"col_heading level0 col0\" >Total Count</th>        <th class=\"col_heading level0 col1\" >Percentage of Players</th>    </tr></thead><tbody>\n                <tr>\n                        <th id=\"T_a04de9b4_b2a5_11ea_8914_1831bf4ed50dlevel0_row0\" class=\"row_heading level0 row0\" >Male</th>\n                        <td id=\"T_a04de9b4_b2a5_11ea_8914_1831bf4ed50drow0_col0\" class=\"data row0 col0\" >484</td>\n                        <td id=\"T_a04de9b4_b2a5_11ea_8914_1831bf4ed50drow0_col1\" class=\"data row0 col1\" >84.03%</td>\n            </tr>\n            <tr>\n                        <th id=\"T_a04de9b4_b2a5_11ea_8914_1831bf4ed50dlevel0_row1\" class=\"row_heading level0 row1\" >Female</th>\n                        <td id=\"T_a04de9b4_b2a5_11ea_8914_1831bf4ed50drow1_col0\" class=\"data row1 col0\" >81</td>\n                        <td id=\"T_a04de9b4_b2a5_11ea_8914_1831bf4ed50drow1_col1\" class=\"data row1 col1\" >14.06%</td>\n            </tr>\n            <tr>\n                        <th id=\"T_a04de9b4_b2a5_11ea_8914_1831bf4ed50dlevel0_row2\" class=\"row_heading level0 row2\" >Other / Non-Disclosed</th>\n                        <td id=\"T_a04de9b4_b2a5_11ea_8914_1831bf4ed50drow2_col0\" class=\"data row2 col0\" >11</td>\n                        <td id=\"T_a04de9b4_b2a5_11ea_8914_1831bf4ed50drow2_col1\" class=\"data row2 col1\" >1.91%</td>\n            </tr>\n    </tbody></table>"
     },
     "metadata": {},
     "execution_count": 129
    }
   ],
   "source": [
    "# First, since some players made multiple purchases, edit the dataframe so that each unique player only appears once. This is accomplished using the drop_duplicates method, targeting the \"SN\" column specifically\n",
    "unique_players_data = purchase_data.drop_duplicates(\"SN\")\n",
    "\n",
    "# Next Count the number of players of all genders by using the value_counts() method.\n",
    "gender_demog = unique_players_data[\"Gender\"].value_counts()\n",
    "# Rename the series as \"Total Count\" using the rename() method\n",
    "gender_demog = gender_demog.rename(\"Total Count\")\n",
    "\n",
    "# To calculate percentages, divide the total number of players from each gender by the total number of overall players. Multiply by 100 to get the percentage, which we will format later on\n",
    "gender_demog_percent = (gender_demog / total_players) * 100\n",
    "# Rename the series as \"Percentage of Players\" so that it the column header populates as such when merged\n",
    "gender_demog_percent = gender_demog_percent.rename(\"Percentage of Players\")\n",
    "\n",
    "\n",
    "# Combine data in a dataframe using the concat() method, passing in the series for the gender counts\n",
    "gender_demog_df = pd.concat([gender_demog, gender_demog_percent], axis = 1)\n",
    "# Format the \"Percentage of Players\" column to two decimal places and add a % sign \n",
    "gender_demog_df_formatted = gender_demog_df.style.format({\"Percentage of Players\" : \"{:.2f}%\"})\n",
    "gender_demog_df_formatted\n",
    "# gender_demog_df\n"
   ]
  },
  {
   "cell_type": "markdown",
   "metadata": {},
   "source": [
    "\n",
    "## Purchasing Analysis (Gender)"
   ]
  },
  {
   "cell_type": "markdown",
   "metadata": {},
   "source": [
    "* Run basic calculations to obtain purchase count, avg. purchase price, avg. purchase total per person etc. by gender\n",
    "\n",
    "\n",
    "\n",
    "\n",
    "* Create a summary data frame to hold the results\n",
    "\n",
    "\n",
    "* Optional: give the displayed data cleaner formatting\n",
    "\n",
    "\n",
    "* Display the summary data frame"
   ]
  },
  {
   "cell_type": "code",
   "execution_count": null,
   "metadata": {},
   "outputs": [],
   "source": []
  },
  {
   "cell_type": "markdown",
   "metadata": {},
   "source": [
    "## Age Demographics"
   ]
  },
  {
   "cell_type": "markdown",
   "metadata": {},
   "source": [
    "* Establish bins for ages\n",
    "\n",
    "\n",
    "* Categorize the existing players using the age bins. Hint: use pd.cut()\n",
    "\n",
    "\n",
    "* Calculate the numbers and percentages by age group\n",
    "\n",
    "\n",
    "* Create a summary data frame to hold the results\n",
    "\n",
    "\n",
    "* Optional: round the percentage column to two decimal points\n",
    "\n",
    "\n",
    "* Display Age Demographics Table\n"
   ]
  },
  {
   "cell_type": "code",
   "execution_count": null,
   "metadata": {},
   "outputs": [],
   "source": []
  },
  {
   "cell_type": "markdown",
   "metadata": {},
   "source": [
    "## Purchasing Analysis (Age)"
   ]
  },
  {
   "cell_type": "markdown",
   "metadata": {},
   "source": [
    "* Bin the purchase_data data frame by age\n",
    "\n",
    "\n",
    "* Run basic calculations to obtain purchase count, avg. purchase price, avg. purchase total per person etc. in the table below\n",
    "\n",
    "\n",
    "* Create a summary data frame to hold the results\n",
    "\n",
    "\n",
    "* Optional: give the displayed data cleaner formatting\n",
    "\n",
    "\n",
    "* Display the summary data frame"
   ]
  },
  {
   "cell_type": "code",
   "execution_count": null,
   "metadata": {},
   "outputs": [],
   "source": []
  },
  {
   "cell_type": "markdown",
   "metadata": {},
   "source": [
    "## Top Spenders"
   ]
  },
  {
   "cell_type": "markdown",
   "metadata": {},
   "source": [
    "* Run basic calculations to obtain the results in the table below\n",
    "\n",
    "\n",
    "* Create a summary data frame to hold the results\n",
    "\n",
    "\n",
    "* Sort the total purchase value column in descending order\n",
    "\n",
    "\n",
    "* Optional: give the displayed data cleaner formatting\n",
    "\n",
    "\n",
    "* Display a preview of the summary data frame\n",
    "\n"
   ]
  },
  {
   "cell_type": "code",
   "execution_count": null,
   "metadata": {},
   "outputs": [],
   "source": []
  },
  {
   "cell_type": "markdown",
   "metadata": {},
   "source": [
    "## Most Popular Items"
   ]
  },
  {
   "cell_type": "markdown",
   "metadata": {},
   "source": [
    "* Retrieve the Item ID, Item Name, and Item Price columns\n",
    "\n",
    "\n",
    "* Group by Item ID and Item Name. Perform calculations to obtain purchase count, item price, and total purchase value\n",
    "\n",
    "\n",
    "* Create a summary data frame to hold the results\n",
    "\n",
    "\n",
    "* Sort the purchase count column in descending order\n",
    "\n",
    "\n",
    "* Optional: give the displayed data cleaner formatting\n",
    "\n",
    "\n",
    "* Display a preview of the summary data frame\n",
    "\n"
   ]
  },
  {
   "cell_type": "code",
   "execution_count": null,
   "metadata": {},
   "outputs": [],
   "source": []
  },
  {
   "cell_type": "markdown",
   "metadata": {},
   "source": [
    "## Most Profitable Items"
   ]
  },
  {
   "cell_type": "markdown",
   "metadata": {},
   "source": [
    "* Sort the above table by total purchase value in descending order\n",
    "\n",
    "\n",
    "* Optional: give the displayed data cleaner formatting\n",
    "\n",
    "\n",
    "* Display a preview of the data frame\n",
    "\n"
   ]
  },
  {
   "cell_type": "code",
   "execution_count": null,
   "metadata": {
    "scrolled": true
   },
   "outputs": [],
   "source": []
  }
 ],
 "metadata": {
  "anaconda-cloud": {},
  "kernel_info": {
   "name": "python3"
  },
  "kernelspec": {
   "display_name": "Python 3",
   "language": "python",
   "name": "python3"
  },
  "language_info": {
   "codemirror_mode": {
    "name": "ipython",
    "version": 3
   },
   "file_extension": ".py",
   "mimetype": "text/x-python",
   "name": "python",
   "nbconvert_exporter": "python",
   "pygments_lexer": "ipython3",
   "version": "3.7.4-final"
  },
  "latex_envs": {
   "LaTeX_envs_menu_present": true,
   "autoclose": false,
   "autocomplete": true,
   "bibliofile": "biblio.bib",
   "cite_by": "apalike",
   "current_citInitial": 1,
   "eqLabelWithNumbers": true,
   "eqNumInitial": 1,
   "hotkeys": {
    "equation": "Ctrl-E",
    "itemize": "Ctrl-I"
   },
   "labels_anchors": false,
   "latex_user_defs": false,
   "report_style_numbering": false,
   "user_envs_cfg": false
  },
  "nteract": {
   "version": "0.2.0"
  }
 },
 "nbformat": 4,
 "nbformat_minor": 2
}